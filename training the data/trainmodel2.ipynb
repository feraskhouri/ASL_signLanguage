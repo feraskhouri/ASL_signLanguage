{
 "cells": [
  {
   "cell_type": "code",
   "execution_count": 1,
   "metadata": {},
   "outputs": [],
   "source": [
    "import pandas as pd\n",
    "import numpy as np\n",
    "from sklearn.model_selection import StratifiedShuffleSplit\n",
    "from sklearn.preprocessing import LabelEncoder, StandardScaler\n",
    "from tensorflow.keras.models import Sequential\n",
    "from tensorflow.keras.layers import LSTM, Dense\n",
    "import joblib\n"
   ]
  },
  {
   "cell_type": "code",
   "execution_count": 2,
   "metadata": {},
   "outputs": [],
   "source": [
    "# Load and preprocess the data\n",
    "data = pd.read_csv(\"D:\\\\finalProject\\\\landmarks_all.csv\")\n",
    "X = data.drop(columns=[\"label\"]).values\n",
    "y = data[\"label\"]"
   ]
  },
  {
   "cell_type": "code",
   "execution_count": 3,
   "metadata": {},
   "outputs": [
    {
     "data": {
      "text/html": [
       "<div>\n",
       "<style scoped>\n",
       "    .dataframe tbody tr th:only-of-type {\n",
       "        vertical-align: middle;\n",
       "    }\n",
       "\n",
       "    .dataframe tbody tr th {\n",
       "        vertical-align: top;\n",
       "    }\n",
       "\n",
       "    .dataframe thead th {\n",
       "        text-align: right;\n",
       "    }\n",
       "</style>\n",
       "<table border=\"1\" class=\"dataframe\">\n",
       "  <thead>\n",
       "    <tr style=\"text-align: right;\">\n",
       "      <th></th>\n",
       "      <th>landmark_1</th>\n",
       "      <th>landmark_2</th>\n",
       "      <th>landmark_3</th>\n",
       "      <th>landmark_4</th>\n",
       "      <th>landmark_5</th>\n",
       "      <th>landmark_6</th>\n",
       "      <th>landmark_7</th>\n",
       "      <th>landmark_8</th>\n",
       "      <th>landmark_9</th>\n",
       "      <th>landmark_10</th>\n",
       "      <th>...</th>\n",
       "      <th>landmark_91</th>\n",
       "      <th>landmark_92</th>\n",
       "      <th>landmark_93</th>\n",
       "      <th>landmark_94</th>\n",
       "      <th>landmark_95</th>\n",
       "      <th>landmark_96</th>\n",
       "      <th>landmark_97</th>\n",
       "      <th>landmark_98</th>\n",
       "      <th>landmark_99</th>\n",
       "      <th>label</th>\n",
       "    </tr>\n",
       "  </thead>\n",
       "  <tbody>\n",
       "    <tr>\n",
       "      <th>0</th>\n",
       "      <td>0.474078</td>\n",
       "      <td>0.255586</td>\n",
       "      <td>-0.845679</td>\n",
       "      <td>0.492901</td>\n",
       "      <td>0.215314</td>\n",
       "      <td>-0.802644</td>\n",
       "      <td>0.505039</td>\n",
       "      <td>0.216036</td>\n",
       "      <td>-0.803109</td>\n",
       "      <td>0.515049</td>\n",
       "      <td>...</td>\n",
       "      <td>0.356639</td>\n",
       "      <td>2.313848</td>\n",
       "      <td>0.377244</td>\n",
       "      <td>0.502491</td>\n",
       "      <td>2.394536</td>\n",
       "      <td>-0.002479</td>\n",
       "      <td>0.381498</td>\n",
       "      <td>2.377426</td>\n",
       "      <td>-0.099456</td>\n",
       "      <td>a-abc</td>\n",
       "    </tr>\n",
       "    <tr>\n",
       "      <th>1</th>\n",
       "      <td>0.475068</td>\n",
       "      <td>0.255527</td>\n",
       "      <td>-1.028458</td>\n",
       "      <td>0.493540</td>\n",
       "      <td>0.215332</td>\n",
       "      <td>-0.985430</td>\n",
       "      <td>0.505772</td>\n",
       "      <td>0.216051</td>\n",
       "      <td>-0.985767</td>\n",
       "      <td>0.515587</td>\n",
       "      <td>...</td>\n",
       "      <td>0.358301</td>\n",
       "      <td>2.340979</td>\n",
       "      <td>0.728185</td>\n",
       "      <td>0.504685</td>\n",
       "      <td>2.416029</td>\n",
       "      <td>0.110209</td>\n",
       "      <td>0.381616</td>\n",
       "      <td>2.409318</td>\n",
       "      <td>0.237820</td>\n",
       "      <td>a-abc</td>\n",
       "    </tr>\n",
       "    <tr>\n",
       "      <th>2</th>\n",
       "      <td>0.475504</td>\n",
       "      <td>0.255363</td>\n",
       "      <td>-1.009970</td>\n",
       "      <td>0.493964</td>\n",
       "      <td>0.215333</td>\n",
       "      <td>-0.965716</td>\n",
       "      <td>0.506334</td>\n",
       "      <td>0.216048</td>\n",
       "      <td>-0.966104</td>\n",
       "      <td>0.516079</td>\n",
       "      <td>...</td>\n",
       "      <td>0.358707</td>\n",
       "      <td>2.358446</td>\n",
       "      <td>0.656555</td>\n",
       "      <td>0.504669</td>\n",
       "      <td>2.430796</td>\n",
       "      <td>0.102040</td>\n",
       "      <td>0.381559</td>\n",
       "      <td>2.424881</td>\n",
       "      <td>0.166357</td>\n",
       "      <td>a-abc</td>\n",
       "    </tr>\n",
       "    <tr>\n",
       "      <th>3</th>\n",
       "      <td>0.475864</td>\n",
       "      <td>0.255349</td>\n",
       "      <td>-1.026346</td>\n",
       "      <td>0.494418</td>\n",
       "      <td>0.215733</td>\n",
       "      <td>-0.981857</td>\n",
       "      <td>0.506879</td>\n",
       "      <td>0.216520</td>\n",
       "      <td>-0.982215</td>\n",
       "      <td>0.516564</td>\n",
       "      <td>...</td>\n",
       "      <td>0.362065</td>\n",
       "      <td>2.366050</td>\n",
       "      <td>0.698646</td>\n",
       "      <td>0.508891</td>\n",
       "      <td>2.437438</td>\n",
       "      <td>0.104160</td>\n",
       "      <td>0.384000</td>\n",
       "      <td>2.432841</td>\n",
       "      <td>0.210205</td>\n",
       "      <td>a-abc</td>\n",
       "    </tr>\n",
       "    <tr>\n",
       "      <th>4</th>\n",
       "      <td>0.476150</td>\n",
       "      <td>0.255345</td>\n",
       "      <td>-1.036166</td>\n",
       "      <td>0.494780</td>\n",
       "      <td>0.216127</td>\n",
       "      <td>-0.992960</td>\n",
       "      <td>0.507264</td>\n",
       "      <td>0.217017</td>\n",
       "      <td>-0.993278</td>\n",
       "      <td>0.516975</td>\n",
       "      <td>...</td>\n",
       "      <td>0.373359</td>\n",
       "      <td>2.372369</td>\n",
       "      <td>0.749761</td>\n",
       "      <td>0.519158</td>\n",
       "      <td>2.440346</td>\n",
       "      <td>0.085969</td>\n",
       "      <td>0.392524</td>\n",
       "      <td>2.440275</td>\n",
       "      <td>0.263123</td>\n",
       "      <td>a-abc</td>\n",
       "    </tr>\n",
       "  </tbody>\n",
       "</table>\n",
       "<p>5 rows × 100 columns</p>\n",
       "</div>"
      ],
      "text/plain": [
       "   landmark_1  landmark_2  landmark_3  landmark_4  landmark_5  landmark_6  \\\n",
       "0    0.474078    0.255586   -0.845679    0.492901    0.215314   -0.802644   \n",
       "1    0.475068    0.255527   -1.028458    0.493540    0.215332   -0.985430   \n",
       "2    0.475504    0.255363   -1.009970    0.493964    0.215333   -0.965716   \n",
       "3    0.475864    0.255349   -1.026346    0.494418    0.215733   -0.981857   \n",
       "4    0.476150    0.255345   -1.036166    0.494780    0.216127   -0.992960   \n",
       "\n",
       "   landmark_7  landmark_8  landmark_9  landmark_10  ...  landmark_91  \\\n",
       "0    0.505039    0.216036   -0.803109     0.515049  ...     0.356639   \n",
       "1    0.505772    0.216051   -0.985767     0.515587  ...     0.358301   \n",
       "2    0.506334    0.216048   -0.966104     0.516079  ...     0.358707   \n",
       "3    0.506879    0.216520   -0.982215     0.516564  ...     0.362065   \n",
       "4    0.507264    0.217017   -0.993278     0.516975  ...     0.373359   \n",
       "\n",
       "   landmark_92  landmark_93  landmark_94  landmark_95  landmark_96  \\\n",
       "0     2.313848     0.377244     0.502491     2.394536    -0.002479   \n",
       "1     2.340979     0.728185     0.504685     2.416029     0.110209   \n",
       "2     2.358446     0.656555     0.504669     2.430796     0.102040   \n",
       "3     2.366050     0.698646     0.508891     2.437438     0.104160   \n",
       "4     2.372369     0.749761     0.519158     2.440346     0.085969   \n",
       "\n",
       "   landmark_97  landmark_98  landmark_99  label  \n",
       "0     0.381498     2.377426    -0.099456  a-abc  \n",
       "1     0.381616     2.409318     0.237820  a-abc  \n",
       "2     0.381559     2.424881     0.166357  a-abc  \n",
       "3     0.384000     2.432841     0.210205  a-abc  \n",
       "4     0.392524     2.440275     0.263123  a-abc  \n",
       "\n",
       "[5 rows x 100 columns]"
      ]
     },
     "execution_count": 3,
     "metadata": {},
     "output_type": "execute_result"
    }
   ],
   "source": [
    "data.head()"
   ]
  },
  {
   "cell_type": "code",
   "execution_count": 4,
   "metadata": {},
   "outputs": [],
   "source": [
    "# Normalize features\n",
    "scaler = StandardScaler()\n",
    "X = scaler.fit_transform(X)"
   ]
  },
  {
   "cell_type": "code",
   "execution_count": 5,
   "metadata": {},
   "outputs": [],
   "source": [
    "# Encode labels\n",
    "label_encoder = LabelEncoder()\n",
    "y_encoded = label_encoder.fit_transform(y)"
   ]
  },
  {
   "cell_type": "code",
   "execution_count": 6,
   "metadata": {},
   "outputs": [],
   "source": [
    "# Remove classes with fewer than 2 samples\n",
    "class_counts = np.bincount(y_encoded)\n",
    "valid_classes = np.where(class_counts > 1)[0]\n",
    "valid_indices = np.isin(y_encoded, valid_classes)\n",
    "X_valid = X[valid_indices]\n",
    "y_valid = y_encoded[valid_indices]\n",
    "\n",
    "# Stratified split for balanced training and validation sets\n",
    "split = StratifiedShuffleSplit(n_splits=1, test_size=0.2, random_state=42)\n",
    "for train_index, val_index in split.split(X_valid, y_valid):\n",
    "    X_train, X_val = X_valid[train_index], X_valid[val_index]\n",
    "    y_train, y_val = y_valid[train_index], y_valid[val_index]"
   ]
  },
  {
   "cell_type": "code",
   "execution_count": 7,
   "metadata": {},
   "outputs": [],
   "source": [
    "# Reshape input for LSTM if necessary\n",
    "X_train = X_train.reshape((X_train.shape[0], 1, X_train.shape[1]))\n",
    "X_val = X_val.reshape((X_val.shape[0], 1, X_val.shape[1]))"
   ]
  },
  {
   "cell_type": "code",
   "execution_count": 8,
   "metadata": {},
   "outputs": [
    {
     "data": {
      "text/plain": [
       "['D:\\\\\\\\finalProject\\\\\\\\training the data\\\\\\\\label_encoder.pkl']"
      ]
     },
     "execution_count": 8,
     "metadata": {},
     "output_type": "execute_result"
    }
   ],
   "source": [
    "# Save the label encoder for future use\n",
    "joblib.dump(label_encoder, r\"D:\\\\finalProject\\\\training the data\\\\label_encoder.pkl\")"
   ]
  },
  {
   "cell_type": "code",
   "execution_count": 10,
   "metadata": {},
   "outputs": [],
   "source": [
    "from tensorflow.keras.layers import Bidirectional, Dropout\n"
   ]
  },
  {
   "cell_type": "code",
   "execution_count": 11,
   "metadata": {},
   "outputs": [
    {
     "name": "stderr",
     "output_type": "stream",
     "text": [
      "C:\\Users\\f1930\\AppData\\Roaming\\Python\\Python312\\site-packages\\keras\\src\\layers\\rnn\\bidirectional.py:107: UserWarning: Do not pass an `input_shape`/`input_dim` argument to a layer. When using Sequential models, prefer using an `Input(shape)` object as the first layer in the model instead.\n",
      "  super().__init__(**kwargs)\n"
     ]
    }
   ],
   "source": [
    "\n",
    "model = Sequential()\n",
    "model.add(Bidirectional(LSTM(256, return_sequences=True), input_shape=(X_train.shape[1], X_train.shape[2])))\n",
    "model.add(Dropout(0.5))\n",
    "model.add(Bidirectional(LSTM(128)))\n",
    "model.add(Dropout(0.5))\n",
    "model.add(Dense(len(label_encoder.classes_), activation='softmax'))"
   ]
  },
  {
   "cell_type": "code",
   "execution_count": 13,
   "metadata": {},
   "outputs": [],
   "source": [
    "from tensorflow.keras.optimizers import Adam\n"
   ]
  },
  {
   "cell_type": "code",
   "execution_count": 14,
   "metadata": {},
   "outputs": [
    {
     "name": "stdout",
     "output_type": "stream",
     "text": [
      "Epoch 1/50\n",
      "\u001b[1m2241/2241\u001b[0m \u001b[32m━━━━━━━━━━━━━━━━━━━━\u001b[0m\u001b[37m\u001b[0m \u001b[1m66s\u001b[0m 28ms/step - accuracy: 0.0018 - loss: 8.8088 - val_accuracy: 0.0064 - val_loss: 7.6844\n",
      "Epoch 2/50\n",
      "\u001b[1m2241/2241\u001b[0m \u001b[32m━━━━━━━━━━━━━━━━━━━━\u001b[0m\u001b[37m\u001b[0m \u001b[1m64s\u001b[0m 29ms/step - accuracy: 0.0077 - loss: 7.6098 - val_accuracy: 0.0156 - val_loss: 7.0743\n",
      "Epoch 3/50\n",
      "\u001b[1m2241/2241\u001b[0m \u001b[32m━━━━━━━━━━━━━━━━━━━━\u001b[0m\u001b[37m\u001b[0m \u001b[1m64s\u001b[0m 29ms/step - accuracy: 0.0148 - loss: 7.0818 - val_accuracy: 0.0254 - val_loss: 6.6545\n",
      "Epoch 4/50\n",
      "\u001b[1m2241/2241\u001b[0m \u001b[32m━━━━━━━━━━━━━━━━━━━━\u001b[0m\u001b[37m\u001b[0m \u001b[1m66s\u001b[0m 30ms/step - accuracy: 0.0211 - loss: 6.7009 - val_accuracy: 0.0376 - val_loss: 6.3188\n",
      "Epoch 5/50\n",
      "\u001b[1m2241/2241\u001b[0m \u001b[32m━━━━━━━━━━━━━━━━━━━━\u001b[0m\u001b[37m\u001b[0m \u001b[1m72s\u001b[0m 32ms/step - accuracy: 0.0323 - loss: 6.3831 - val_accuracy: 0.0527 - val_loss: 6.0310\n",
      "Epoch 6/50\n",
      "\u001b[1m2241/2241\u001b[0m \u001b[32m━━━━━━━━━━━━━━━━━━━━\u001b[0m\u001b[37m\u001b[0m \u001b[1m79s\u001b[0m 35ms/step - accuracy: 0.0417 - loss: 6.1125 - val_accuracy: 0.0666 - val_loss: 5.7765\n",
      "Epoch 7/50\n",
      "\u001b[1m2241/2241\u001b[0m \u001b[32m━━━━━━━━━━━━━━━━━━━━\u001b[0m\u001b[37m\u001b[0m \u001b[1m84s\u001b[0m 38ms/step - accuracy: 0.0515 - loss: 5.8731 - val_accuracy: 0.0807 - val_loss: 5.5503\n",
      "Epoch 8/50\n",
      "\u001b[1m2241/2241\u001b[0m \u001b[32m━━━━━━━━━━━━━━━━━━━━\u001b[0m\u001b[37m\u001b[0m \u001b[1m82s\u001b[0m 37ms/step - accuracy: 0.0612 - loss: 5.6683 - val_accuracy: 0.0966 - val_loss: 5.3495\n",
      "Epoch 9/50\n",
      "\u001b[1m2241/2241\u001b[0m \u001b[32m━━━━━━━━━━━━━━━━━━━━\u001b[0m\u001b[37m\u001b[0m \u001b[1m70s\u001b[0m 31ms/step - accuracy: 0.0701 - loss: 5.4849 - val_accuracy: 0.1121 - val_loss: 5.1696\n",
      "Epoch 10/50\n",
      "\u001b[1m2241/2241\u001b[0m \u001b[32m━━━━━━━━━━━━━━━━━━━━\u001b[0m\u001b[37m\u001b[0m \u001b[1m69s\u001b[0m 31ms/step - accuracy: 0.0805 - loss: 5.3170 - val_accuracy: 0.1245 - val_loss: 5.0062\n",
      "Epoch 11/50\n",
      "\u001b[1m2241/2241\u001b[0m \u001b[32m━━━━━━━━━━━━━━━━━━━━\u001b[0m\u001b[37m\u001b[0m \u001b[1m70s\u001b[0m 31ms/step - accuracy: 0.0896 - loss: 5.1705 - val_accuracy: 0.1380 - val_loss: 4.8581\n",
      "Epoch 12/50\n",
      "\u001b[1m2241/2241\u001b[0m \u001b[32m━━━━━━━━━━━━━━━━━━━━\u001b[0m\u001b[37m\u001b[0m \u001b[1m71s\u001b[0m 31ms/step - accuracy: 0.1009 - loss: 5.0305 - val_accuracy: 0.1540 - val_loss: 4.7203\n",
      "Epoch 13/50\n",
      "\u001b[1m2241/2241\u001b[0m \u001b[32m━━━━━━━━━━━━━━━━━━━━\u001b[0m\u001b[37m\u001b[0m \u001b[1m70s\u001b[0m 31ms/step - accuracy: 0.1095 - loss: 4.9054 - val_accuracy: 0.1691 - val_loss: 4.5925\n",
      "Epoch 14/50\n",
      "\u001b[1m2241/2241\u001b[0m \u001b[32m━━━━━━━━━━━━━━━━━━━━\u001b[0m\u001b[37m\u001b[0m \u001b[1m70s\u001b[0m 31ms/step - accuracy: 0.1201 - loss: 4.7905 - val_accuracy: 0.1829 - val_loss: 4.4718\n",
      "Epoch 15/50\n",
      "\u001b[1m2241/2241\u001b[0m \u001b[32m━━━━━━━━━━━━━━━━━━━━\u001b[0m\u001b[37m\u001b[0m \u001b[1m70s\u001b[0m 31ms/step - accuracy: 0.1312 - loss: 4.6795 - val_accuracy: 0.1984 - val_loss: 4.3579\n",
      "Epoch 16/50\n",
      "\u001b[1m2241/2241\u001b[0m \u001b[32m━━━━━━━━━━━━━━━━━━━━\u001b[0m\u001b[37m\u001b[0m \u001b[1m72s\u001b[0m 32ms/step - accuracy: 0.1408 - loss: 4.5719 - val_accuracy: 0.2141 - val_loss: 4.2495\n",
      "Epoch 17/50\n",
      "\u001b[1m2241/2241\u001b[0m \u001b[32m━━━━━━━━━━━━━━━━━━━━\u001b[0m\u001b[37m\u001b[0m \u001b[1m70s\u001b[0m 31ms/step - accuracy: 0.1525 - loss: 4.4715 - val_accuracy: 0.2253 - val_loss: 4.1471\n",
      "Epoch 18/50\n",
      "\u001b[1m2241/2241\u001b[0m \u001b[32m━━━━━━━━━━━━━━━━━━━━\u001b[0m\u001b[37m\u001b[0m \u001b[1m69s\u001b[0m 31ms/step - accuracy: 0.1619 - loss: 4.3792 - val_accuracy: 0.2382 - val_loss: 4.0496\n",
      "Epoch 19/50\n",
      "\u001b[1m2241/2241\u001b[0m \u001b[32m━━━━━━━━━━━━━━━━━━━━\u001b[0m\u001b[37m\u001b[0m \u001b[1m70s\u001b[0m 31ms/step - accuracy: 0.1694 - loss: 4.2995 - val_accuracy: 0.2484 - val_loss: 3.9571\n",
      "Epoch 20/50\n",
      "\u001b[1m2241/2241\u001b[0m \u001b[32m━━━━━━━━━━━━━━━━━━━━\u001b[0m\u001b[37m\u001b[0m \u001b[1m71s\u001b[0m 32ms/step - accuracy: 0.1786 - loss: 4.2089 - val_accuracy: 0.2622 - val_loss: 3.8686\n",
      "Epoch 21/50\n",
      "\u001b[1m2241/2241\u001b[0m \u001b[32m━━━━━━━━━━━━━━━━━━━━\u001b[0m\u001b[37m\u001b[0m \u001b[1m77s\u001b[0m 34ms/step - accuracy: 0.1890 - loss: 4.1242 - val_accuracy: 0.2775 - val_loss: 3.7834\n",
      "Epoch 22/50\n",
      "\u001b[1m2241/2241\u001b[0m \u001b[32m━━━━━━━━━━━━━━━━━━━━\u001b[0m\u001b[37m\u001b[0m \u001b[1m75s\u001b[0m 33ms/step - accuracy: 0.1980 - loss: 4.0534 - val_accuracy: 0.2887 - val_loss: 3.7036\n",
      "Epoch 23/50\n",
      "\u001b[1m2241/2241\u001b[0m \u001b[32m━━━━━━━━━━━━━━━━━━━━\u001b[0m\u001b[37m\u001b[0m \u001b[1m74s\u001b[0m 33ms/step - accuracy: 0.2051 - loss: 3.9776 - val_accuracy: 0.3001 - val_loss: 3.6287\n",
      "Epoch 24/50\n",
      "\u001b[1m2241/2241\u001b[0m \u001b[32m━━━━━━━━━━━━━━━━━━━━\u001b[0m\u001b[37m\u001b[0m \u001b[1m73s\u001b[0m 32ms/step - accuracy: 0.2155 - loss: 3.9122 - val_accuracy: 0.3073 - val_loss: 3.5552\n",
      "Epoch 25/50\n",
      "\u001b[1m2241/2241\u001b[0m \u001b[32m━━━━━━━━━━━━━━━━━━━━\u001b[0m\u001b[37m\u001b[0m \u001b[1m78s\u001b[0m 35ms/step - accuracy: 0.2222 - loss: 3.8397 - val_accuracy: 0.3189 - val_loss: 3.4849\n",
      "Epoch 26/50\n",
      "\u001b[1m2241/2241\u001b[0m \u001b[32m━━━━━━━━━━━━━━━━━━━━\u001b[0m\u001b[37m\u001b[0m \u001b[1m74s\u001b[0m 33ms/step - accuracy: 0.2338 - loss: 3.7757 - val_accuracy: 0.3291 - val_loss: 3.4180\n",
      "Epoch 27/50\n",
      "\u001b[1m2241/2241\u001b[0m \u001b[32m━━━━━━━━━━━━━━━━━━━━\u001b[0m\u001b[37m\u001b[0m \u001b[1m74s\u001b[0m 33ms/step - accuracy: 0.2392 - loss: 3.7229 - val_accuracy: 0.3393 - val_loss: 3.3556\n",
      "Epoch 28/50\n",
      "\u001b[1m2241/2241\u001b[0m \u001b[32m━━━━━━━━━━━━━━━━━━━━\u001b[0m\u001b[37m\u001b[0m \u001b[1m64s\u001b[0m 29ms/step - accuracy: 0.2470 - loss: 3.6645 - val_accuracy: 0.3457 - val_loss: 3.2934\n",
      "Epoch 29/50\n",
      "\u001b[1m2241/2241\u001b[0m \u001b[32m━━━━━━━━━━━━━━━━━━━━\u001b[0m\u001b[37m\u001b[0m \u001b[1m57s\u001b[0m 25ms/step - accuracy: 0.2563 - loss: 3.6067 - val_accuracy: 0.3575 - val_loss: 3.2352\n",
      "Epoch 30/50\n",
      "\u001b[1m2241/2241\u001b[0m \u001b[32m━━━━━━━━━━━━━━━━━━━━\u001b[0m\u001b[37m\u001b[0m \u001b[1m60s\u001b[0m 27ms/step - accuracy: 0.2620 - loss: 3.5486 - val_accuracy: 0.3648 - val_loss: 3.1798\n",
      "Epoch 31/50\n",
      "\u001b[1m2241/2241\u001b[0m \u001b[32m━━━━━━━━━━━━━━━━━━━━\u001b[0m\u001b[37m\u001b[0m \u001b[1m70s\u001b[0m 31ms/step - accuracy: 0.2684 - loss: 3.4966 - val_accuracy: 0.3742 - val_loss: 3.1266\n",
      "Epoch 32/50\n",
      "\u001b[1m2241/2241\u001b[0m \u001b[32m━━━━━━━━━━━━━━━━━━━━\u001b[0m\u001b[37m\u001b[0m \u001b[1m69s\u001b[0m 31ms/step - accuracy: 0.2743 - loss: 3.4563 - val_accuracy: 0.3786 - val_loss: 3.0773\n",
      "Epoch 33/50\n",
      "\u001b[1m2241/2241\u001b[0m \u001b[32m━━━━━━━━━━━━━━━━━━━━\u001b[0m\u001b[37m\u001b[0m \u001b[1m69s\u001b[0m 31ms/step - accuracy: 0.2810 - loss: 3.4070 - val_accuracy: 0.3862 - val_loss: 3.0283\n",
      "Epoch 34/50\n",
      "\u001b[1m2241/2241\u001b[0m \u001b[32m━━━━━━━━━━━━━━━━━━━━\u001b[0m\u001b[37m\u001b[0m \u001b[1m70s\u001b[0m 31ms/step - accuracy: 0.2891 - loss: 3.3520 - val_accuracy: 0.3941 - val_loss: 2.9813\n",
      "Epoch 35/50\n",
      "\u001b[1m2241/2241\u001b[0m \u001b[32m━━━━━━━━━━━━━━━━━━━━\u001b[0m\u001b[37m\u001b[0m \u001b[1m69s\u001b[0m 31ms/step - accuracy: 0.2957 - loss: 3.3141 - val_accuracy: 0.4020 - val_loss: 2.9358\n",
      "Epoch 36/50\n",
      "\u001b[1m2241/2241\u001b[0m \u001b[32m━━━━━━━━━━━━━━━━━━━━\u001b[0m\u001b[37m\u001b[0m \u001b[1m69s\u001b[0m 31ms/step - accuracy: 0.3007 - loss: 3.2814 - val_accuracy: 0.4103 - val_loss: 2.8929\n",
      "Epoch 37/50\n",
      "\u001b[1m2241/2241\u001b[0m \u001b[32m━━━━━━━━━━━━━━━━━━━━\u001b[0m\u001b[37m\u001b[0m \u001b[1m69s\u001b[0m 31ms/step - accuracy: 0.3082 - loss: 3.2381 - val_accuracy: 0.4155 - val_loss: 2.8503\n",
      "Epoch 38/50\n",
      "\u001b[1m2241/2241\u001b[0m \u001b[32m━━━━━━━━━━━━━━━━━━━━\u001b[0m\u001b[37m\u001b[0m \u001b[1m69s\u001b[0m 31ms/step - accuracy: 0.3075 - loss: 3.2016 - val_accuracy: 0.4250 - val_loss: 2.8099\n",
      "Epoch 39/50\n",
      "\u001b[1m2241/2241\u001b[0m \u001b[32m━━━━━━━━━━━━━━━━━━━━\u001b[0m\u001b[37m\u001b[0m \u001b[1m72s\u001b[0m 32ms/step - accuracy: 0.3170 - loss: 3.1588 - val_accuracy: 0.4292 - val_loss: 2.7709\n",
      "Epoch 40/50\n",
      "\u001b[1m2241/2241\u001b[0m \u001b[32m━━━━━━━━━━━━━━━━━━━━\u001b[0m\u001b[37m\u001b[0m \u001b[1m76s\u001b[0m 34ms/step - accuracy: 0.3225 - loss: 3.1228 - val_accuracy: 0.4373 - val_loss: 2.7330\n",
      "Epoch 41/50\n",
      "\u001b[1m2241/2241\u001b[0m \u001b[32m━━━━━━━━━━━━━━━━━━━━\u001b[0m\u001b[37m\u001b[0m \u001b[1m61s\u001b[0m 27ms/step - accuracy: 0.3304 - loss: 3.0834 - val_accuracy: 0.4450 - val_loss: 2.6982\n",
      "Epoch 42/50\n",
      "\u001b[1m2241/2241\u001b[0m \u001b[32m━━━━━━━━━━━━━━━━━━━━\u001b[0m\u001b[37m\u001b[0m \u001b[1m62s\u001b[0m 28ms/step - accuracy: 0.3323 - loss: 3.0551 - val_accuracy: 0.4503 - val_loss: 2.6631\n",
      "Epoch 43/50\n",
      "\u001b[1m2241/2241\u001b[0m \u001b[32m━━━━━━━━━━━━━━━━━━━━\u001b[0m\u001b[37m\u001b[0m \u001b[1m63s\u001b[0m 28ms/step - accuracy: 0.3370 - loss: 3.0289 - val_accuracy: 0.4555 - val_loss: 2.6305\n",
      "Epoch 44/50\n",
      "\u001b[1m2241/2241\u001b[0m \u001b[32m━━━━━━━━━━━━━━━━━━━━\u001b[0m\u001b[37m\u001b[0m \u001b[1m61s\u001b[0m 27ms/step - accuracy: 0.3428 - loss: 2.9947 - val_accuracy: 0.4610 - val_loss: 2.5965\n",
      "Epoch 45/50\n",
      "\u001b[1m2241/2241\u001b[0m \u001b[32m━━━━━━━━━━━━━━━━━━━━\u001b[0m\u001b[37m\u001b[0m \u001b[1m62s\u001b[0m 28ms/step - accuracy: 0.3472 - loss: 2.9645 - val_accuracy: 0.4656 - val_loss: 2.5641\n",
      "Epoch 46/50\n",
      "\u001b[1m2241/2241\u001b[0m \u001b[32m━━━━━━━━━━━━━━━━━━━━\u001b[0m\u001b[37m\u001b[0m \u001b[1m62s\u001b[0m 28ms/step - accuracy: 0.3545 - loss: 2.9256 - val_accuracy: 0.4717 - val_loss: 2.5335\n",
      "Epoch 47/50\n",
      "\u001b[1m2241/2241\u001b[0m \u001b[32m━━━━━━━━━━━━━━━━━━━━\u001b[0m\u001b[37m\u001b[0m \u001b[1m63s\u001b[0m 28ms/step - accuracy: 0.3561 - loss: 2.9087 - val_accuracy: 0.4775 - val_loss: 2.5043\n",
      "Epoch 48/50\n",
      "\u001b[1m2241/2241\u001b[0m \u001b[32m━━━━━━━━━━━━━━━━━━━━\u001b[0m\u001b[37m\u001b[0m \u001b[1m63s\u001b[0m 28ms/step - accuracy: 0.3623 - loss: 2.8786 - val_accuracy: 0.4837 - val_loss: 2.4755\n",
      "Epoch 49/50\n",
      "\u001b[1m2241/2241\u001b[0m \u001b[32m━━━━━━━━━━━━━━━━━━━━\u001b[0m\u001b[37m\u001b[0m \u001b[1m63s\u001b[0m 28ms/step - accuracy: 0.3673 - loss: 2.8436 - val_accuracy: 0.4872 - val_loss: 2.4487\n",
      "Epoch 50/50\n",
      "\u001b[1m2241/2241\u001b[0m \u001b[32m━━━━━━━━━━━━━━━━━━━━\u001b[0m\u001b[37m\u001b[0m \u001b[1m68s\u001b[0m 31ms/step - accuracy: 0.3716 - loss: 2.8201 - val_accuracy: 0.4922 - val_loss: 2.4206\n"
     ]
    }
   ],
   "source": [
    "# Compile with a lower learning rate\n",
    "optimizer = Adam(learning_rate=0.0001)\n",
    "model.compile(optimizer=optimizer, loss='sparse_categorical_crossentropy', metrics=['accuracy'])\n",
    "\n",
    "# Train for more epochs\n",
    "history = model.fit(X_train, y_train, validation_data=(X_val, y_val), epochs=50, batch_size=64)"
   ]
  },
  {
   "cell_type": "code",
   "execution_count": 15,
   "metadata": {},
   "outputs": [
    {
     "name": "stderr",
     "output_type": "stream",
     "text": [
      "WARNING:absl:You are saving your model as an HDF5 file via `model.save()` or `keras.saving.save_model(model)`. This file format is considered legacy. We recommend using instead the native Keras format, e.g. `model.save('my_model.keras')` or `keras.saving.save_model(model, 'my_model.keras')`. \n"
     ]
    },
    {
     "name": "stdout",
     "output_type": "stream",
     "text": [
      "Model 2 trained and saved.\n"
     ]
    }
   ],
   "source": [
    "# Save the model\n",
    "model.save(\"D:\\\\finalProject\\\\training the data\\\\asl_sign_model2.h5\")\n",
    "\n",
    "print(\"Model 2 trained and saved.\")"
   ]
  },
  {
   "cell_type": "code",
   "execution_count": null,
   "metadata": {},
   "outputs": [],
   "source": []
  }
 ],
 "metadata": {
  "kernelspec": {
   "display_name": "Python 3",
   "language": "python",
   "name": "python3"
  },
  "language_info": {
   "codemirror_mode": {
    "name": "ipython",
    "version": 3
   },
   "file_extension": ".py",
   "mimetype": "text/x-python",
   "name": "python",
   "nbconvert_exporter": "python",
   "pygments_lexer": "ipython3",
   "version": "3.12.3"
  }
 },
 "nbformat": 4,
 "nbformat_minor": 2
}
